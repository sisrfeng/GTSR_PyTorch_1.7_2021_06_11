{
 "cells": [
  {
   "cell_type": "code",
   "execution_count": 1,
   "metadata": {},
   "outputs": [
    {
     "data": {
      "text/plain": [
       "'\\nThis notebook is to demonstrate multi-class classification using PyTorch\\n\\nThe dataset used for the task is GTSRB - German Traffic Sign Recognition Database. This datset consists of 39209 training examples and 12631 test images, belonging to 43 classes\\n\\nThis notebook is used to perform training only. Inference is done in a separate notebook\\n'"
      ]
     },
     "execution_count": 1,
     "metadata": {},
     "output_type": "execute_result"
    }
   ],
   "source": [
    "\"\"\"\n",
    "This notebook is to demonstrate multi-class classification using PyTorch\n",
    "\n",
    "The dataset used for the task is GTSRB - German Traffic Sign Recognition Database. This datset consists of 39209 training examples and 12631 test images, belonging to 43 classes\n",
    "\n",
    "This notebook is used to perform training only. Inference is done in a separate notebook\n",
    "\"\"\" "
   ]
  },
  {
   "cell_type": "code",
   "execution_count": 2,
   "metadata": {},
   "outputs": [],
   "source": [
    "# Few imports\n",
    "\n",
    "import torch\n",
    "import torchvision\n",
    "from torchvision import transforms\n",
    "import torch.utils.data as data\n",
    "import torch.optim as optim\n",
    "import torch.nn as nn\n",
    "from torchsummary import summary\n",
    "import time\n",
    "import numpy as np\n",
    "import os\n",
    "import matplotlib.pyplot as plt\n",
    "\n",
    "from sklearn.metrics import confusion_matrix\n",
    "from sklearn.metrics import classification_report"
   ]
  },
  {
   "cell_type": "code",
   "execution_count": 3,
   "metadata": {},
   "outputs": [],
   "source": [
    "# Before starting, clear the memory\n",
    "\n",
    "torch.cuda.empty_cache()"
   ]
  },
  {
   "cell_type": "code",
   "execution_count": 4,
   "metadata": {},
   "outputs": [],
   "source": [
    "# Define the transformations. To begin with, we shall keep it minimum - only resizing the images and converting them to PyTorch tensors\n",
    "\n",
    "data_transforms = transforms.Compose([\n",
    "    transforms.Resize([112, 112]),\n",
    "    transforms.ToTensor()\n",
    "    ])"
   ]
  },
  {
   "cell_type": "code",
   "execution_count": 5,
   "metadata": {},
   "outputs": [],
   "source": [
    "# Defining hyperparameters\n",
    "\n",
    "BATCH_SIZE = 256\n",
    "learning_rate = 0.001\n",
    "EPOCHS = 15\n",
    "numClasses = 43"
   ]
  },
  {
   "cell_type": "code",
   "execution_count": 6,
   "metadata": {},
   "outputs": [
    {
     "name": "stdout",
     "output_type": "stream",
     "text": [
      "Number of training samples = 31367\n",
      "Number of validation samples = 7842\n"
     ]
    }
   ],
   "source": [
    "# Define path of training data\n",
    "\n",
    "train_data_path = \"../GTSRB/Train\"\n",
    "train_data = torchvision.datasets.ImageFolder(root = train_data_path, transform = data_transforms)\n",
    "\n",
    "# Divide data into training and validation (0.8 and 0.2)\n",
    "ratio = 0.8\n",
    "n_train_examples = int(len(train_data) * ratio)\n",
    "n_val_examples = len(train_data) - n_train_examples\n",
    "\n",
    "train_data, val_data = data.random_split(train_data, [n_train_examples, n_val_examples])\n",
    "\n",
    "print(f\"Number of training samples = {len(train_data)}\")\n",
    "print(f\"Number of validation samples = {len(val_data)}\")"
   ]
  },
  {
   "cell_type": "code",
   "execution_count": 7,
   "metadata": {},
   "outputs": [
    {
     "data": {
      "text/plain": [
       "Text(0, 0.5, '# of examples')"
      ]
     },
     "execution_count": 7,
     "metadata": {},
     "output_type": "execute_result"
    },
    {
     "data": {
      "image/png": "[encoded data removed]",
      "text/plain": [
       "<Figure size 432x288 with 1 Axes>"
      ]
     },
     "metadata": {
      "needs_background": "light"
     },
     "output_type": "display_data"
    }
   ],
   "source": [
    "# Plot histogram for training and validation data\n",
    "\n",
    "train_hist = [0]*numClasses\n",
    "for i in train_data.indices:\n",
    "    tar = train_data.dataset.targets[i]\n",
    "    train_hist[tar] += 1\n",
    "    \n",
    "val_hist = [0]*numClasses\n",
    "for i in val_data.indices:\n",
    "    tar = val_data.dataset.targets[i]\n",
    "    val_hist[tar] += 1\n",
    "\n",
    "plt.bar(range(numClasses), train_hist, label=\"train\")\n",
    "plt.bar(range(numClasses), val_hist, label=\"val\")\n",
    "legend = plt.legend(loc='upper right', shadow=True)\n",
    "plt.title(\"Distribution Plot\")\n",
    "plt.xlabel(\"Class ID\")\n",
    "plt.ylabel(\"# of examples\")"
   ]
  },
  {
   "cell_type": "code",
   "execution_count": 8,
   "metadata": {},
   "outputs": [],
   "source": [
    "# Create data loader for training and validation\n",
    "\n",
    "train_loader = data.DataLoader(train_data, shuffle=True, batch_size = BATCH_SIZE)\n",
    "val_loader = data.DataLoader(val_data, shuffle=True, batch_size = BATCH_SIZE)"
   ]
  },
  {
   "cell_type": "code",
   "execution_count": 9,
   "metadata": {},
   "outputs": [],
   "source": [
    "# Function to count the number of parameters in the model\n",
    "\n",
    "def count_parameters(model):\n",
    "    return sum(p.numel() for p in model.parameters() if p.requires_grad)"
   ]
  },
  {
   "cell_type": "code",
   "execution_count": 10,
   "metadata": {},
   "outputs": [
    {
     "name": "stdout",
     "output_type": "stream",
     "text": [
      "The model has 15,063,891 trainable parameters\n"
     ]
    }
   ],
   "source": [
    "# Initialize the model\n",
    "# The model is defined in the class Alexnet in the file class_alexnet.py\n",
    "\n",
    "from class_alexnetTS import AlexnetTS\n",
    "model = AlexnetTS(numClasses)\n",
    "print(f'The model has {count_parameters(model):,} trainable parameters')"
   ]
  },
  {
   "cell_type": "code",
   "execution_count": 11,
   "metadata": {},
   "outputs": [],
   "source": [
    "# Define optimizer and criterion functions\n",
    "\n",
    "optimizer = optim.Adam(model.parameters(), lr=learning_rate)\n",
    "criterion = nn.CrossEntropyLoss()"
   ]
  },
  {
   "cell_type": "code",
   "execution_count": 12,
   "metadata": {},
   "outputs": [],
   "source": [
    "# If CUDA is available, convert model and loss to cuda variables\n",
    "\n",
    "if torch.cuda.is_available():\n",
    "    model = model.cuda()\n",
    "    criterion = criterion.cuda()"
   ]
  },
  {
   "cell_type": "code",
   "execution_count": 13,
   "metadata": {},
   "outputs": [
    {
     "name": "stdout",
     "output_type": "stream",
     "text": [
      "Alexnet(\n",
      "  (features): Sequential(\n",
      "    (0): Conv2d(3, 64, kernel_size=(3, 3), stride=(2, 2), padding=(1, 1))\n",
      "    (1): MaxPool2d(kernel_size=2, stride=2, padding=0, dilation=1, ceil_mode=False)\n",
      "    (2): ReLU(inplace=True)\n",
      "    (3): Conv2d(64, 192, kernel_size=(3, 3), stride=(1, 1), padding=(1, 1))\n",
      "    (4): MaxPool2d(kernel_size=2, stride=2, padding=0, dilation=1, ceil_mode=False)\n",
      "    (5): ReLU(inplace=True)\n",
      "    (6): Conv2d(192, 384, kernel_size=(3, 3), stride=(1, 1), padding=(1, 1))\n",
      "    (7): ReLU(inplace=True)\n",
      "    (8): Conv2d(384, 256, kernel_size=(3, 3), stride=(1, 1), padding=(1, 1))\n",
      "    (9): ReLU(inplace=True)\n",
      "    (10): Conv2d(256, 256, kernel_size=(3, 3), stride=(1, 1), padding=(1, 1))\n",
      "    (11): MaxPool2d(kernel_size=2, stride=2, padding=0, dilation=1, ceil_mode=False)\n",
      "    (12): ReLU(inplace=True)\n",
      "  )\n",
      "  (classifier): Sequential(\n",
      "    (0): Dropout(p=0.5, inplace=False)\n",
      "    (1): Linear(in_features=12544, out_features=1000, bias=True)\n",
      "    (2): ReLU(inplace=True)\n",
      "    (3): Dropout(p=0.5, inplace=False)\n",
      "    (4): Linear(in_features=1000, out_features=256, bias=True)\n",
      "    (5): ReLU(inplace=True)\n",
      "    (6): Linear(in_features=256, out_features=43, bias=True)\n",
      "  )\n",
      ")\n"
     ]
    }
   ],
   "source": [
    "# Print model\n",
    "\n",
    "print(model)"
   ]
  },
  {
   "cell_type": "code",
   "execution_count": 14,
   "metadata": {},
   "outputs": [
    {
     "name": "stdout",
     "output_type": "stream",
     "text": [
      "----------------------------------------------------------------\n",
      "        Layer (type)               Output Shape         Param #\n",
      "================================================================\n",
      "            Conv2d-1           [-1, 64, 56, 56]           1,792\n",
      "         MaxPool2d-2           [-1, 64, 28, 28]               0\n",
      "              ReLU-3           [-1, 64, 28, 28]               0\n",
      "            Conv2d-4          [-1, 192, 28, 28]         110,784\n",
      "         MaxPool2d-5          [-1, 192, 14, 14]               0\n",
      "              ReLU-6          [-1, 192, 14, 14]               0\n",
      "            Conv2d-7          [-1, 384, 14, 14]         663,936\n",
      "              ReLU-8          [-1, 384, 14, 14]               0\n",
      "            Conv2d-9          [-1, 256, 14, 14]         884,992\n",
      "             ReLU-10          [-1, 256, 14, 14]               0\n",
      "           Conv2d-11          [-1, 256, 14, 14]         590,080\n",
      "        MaxPool2d-12            [-1, 256, 7, 7]               0\n",
      "             ReLU-13            [-1, 256, 7, 7]               0\n",
      "          Dropout-14                [-1, 12544]               0\n",
      "           Linear-15                 [-1, 1000]      12,545,000\n",
      "             ReLU-16                 [-1, 1000]               0\n",
      "          Dropout-17                 [-1, 1000]               0\n",
      "           Linear-18                  [-1, 256]         256,256\n",
      "             ReLU-19                  [-1, 256]               0\n",
      "           Linear-20                   [-1, 43]          11,051\n",
      "================================================================\n",
      "Total params: 15,063,891\n",
      "Trainable params: 15,063,891\n",
      "Non-trainable params: 0\n",
      "----------------------------------------------------------------\n",
      "Input size (MB): 0.14\n",
      "Forward/backward pass size (MB): 6.63\n",
      "Params size (MB): 57.46\n",
      "Estimated Total Size (MB): 64.24\n",
      "----------------------------------------------------------------\n",
      "None\n"
     ]
    }
   ],
   "source": [
    "# Print summary of the model for the given dimension of the image\n",
    "\n",
    "print(summary(model, (3, 112, 112))) "
   ]
  },
  {
   "cell_type": "code",
   "execution_count": 15,
   "metadata": {},
   "outputs": [
    {
     "name": "stdout",
     "output_type": "stream",
     "text": [
      "Model's state dict:\n",
      "features.0.weight \t torch.Size([64, 3, 3, 3])\n",
      "features.0.bias \t torch.Size([64])\n",
      "features.3.weight \t torch.Size([192, 64, 3, 3])\n",
      "features.3.bias \t torch.Size([192])\n",
      "features.6.weight \t torch.Size([384, 192, 3, 3])\n",
      "features.6.bias \t torch.Size([384])\n",
      "features.8.weight \t torch.Size([256, 384, 3, 3])\n",
      "features.8.bias \t torch.Size([256])\n",
      "features.10.weight \t torch.Size([256, 256, 3, 3])\n",
      "features.10.bias \t torch.Size([256])\n",
      "classifier.1.weight \t torch.Size([1000, 12544])\n",
      "classifier.1.bias \t torch.Size([1000])\n",
      "classifier.4.weight \t torch.Size([256, 1000])\n",
      "classifier.4.bias \t torch.Size([256])\n",
      "classifier.6.weight \t torch.Size([43, 256])\n",
      "classifier.6.bias \t torch.Size([43])\n",
      "\n"
     ]
    }
   ],
   "source": [
    "# Print model's state dict\n",
    "\n",
    "print(\"Model's state dict:\")\n",
    "for param_tensor in model.state_dict():\n",
    "    print(param_tensor, \"\\t\", model.state_dict()[param_tensor].size())\n",
    "print(\"\")"
   ]
  },
  {
   "cell_type": "code",
   "execution_count": 16,
   "metadata": {},
   "outputs": [
    {
     "name": "stdout",
     "output_type": "stream",
     "text": [
      "Optimizer details:\n",
      "Adam (\n",
      "Parameter Group 0\n",
      "    amsgrad: False\n",
      "    betas: (0.9, 0.999)\n",
      "    eps: 1e-08\n",
      "    lr: 0.001\n",
      "    weight_decay: 0\n",
      ")\n",
      "\n"
     ]
    }
   ],
   "source": [
    "# Print optimizer details\n",
    "\n",
    "print(\"Optimizer details:\")\n",
    "print(optimizer)\n",
    "print(\"\")"
   ]
  },
  {
   "cell_type": "code",
   "execution_count": 17,
   "metadata": {},
   "outputs": [],
   "source": [
    "# Function to calculate accuracy\n",
    "\n",
    "def calculate_accuracy(y_pred, y):\n",
    "    top_pred = y_pred.argmax(1, keepdim = True)\n",
    "    correct = top_pred.eq(y.view_as(top_pred)).sum()\n",
    "    acc = correct.float() / y.shape[0]\n",
    "    return acc"
   ]
  },
  {
   "cell_type": "code",
   "execution_count": 18,
   "metadata": {},
   "outputs": [],
   "source": [
    "# Function to perform training of the model\n",
    "\n",
    "def train(model, loader, opt, criterion):\n",
    "    epoch_loss = 0\n",
    "    epoch_acc = 0\n",
    "    \n",
    "    # Train the model\n",
    "    model.train()\n",
    "    \n",
    "    for (images, labels) in loader:\n",
    "        images = images.cuda()\n",
    "        labels = labels.cuda()\n",
    "        \n",
    "        # Training pass\n",
    "        opt.zero_grad()\n",
    "        \n",
    "        output, _ = model(images)\n",
    "        loss = criterion(output, labels)\n",
    "        \n",
    "        # Backpropagation\n",
    "        loss.backward()\n",
    "        \n",
    "        # Calculate accuracy\n",
    "        acc = calculate_accuracy(output, labels)\n",
    "        \n",
    "        # Optimizing weights\n",
    "        opt.step()\n",
    "        \n",
    "        epoch_loss += loss.item()\n",
    "        epoch_acc += acc.item()\n",
    "        \n",
    "    return epoch_loss / len(loader), epoch_acc / len(loader)"
   ]
  },
  {
   "cell_type": "code",
   "execution_count": 19,
   "metadata": {},
   "outputs": [],
   "source": [
    "# Function to perform evaluation on the trained model\n",
    "\n",
    "def evaluate(model, loader, opt, criterion):\n",
    "    epoch_loss = 0\n",
    "    epoch_acc = 0\n",
    "    \n",
    "    # Evaluate the model\n",
    "    model.eval()\n",
    "    \n",
    "    with torch.no_grad():\n",
    "        for (images, labels) in loader:\n",
    "            images = images.cuda()\n",
    "            labels = labels.cuda()\n",
    "            \n",
    "            # Run predictions\n",
    "            output, _ = model(images)\n",
    "            loss = criterion(output, labels)\n",
    "            \n",
    "            # Calculate accuracy\n",
    "            acc = calculate_accuracy(output, labels)\n",
    "            \n",
    "            epoch_loss += loss.item()\n",
    "            epoch_acc += acc.item()\n",
    "    \n",
    "    return epoch_loss / len(loader), epoch_acc / len(loader)"
   ]
  },
  {
   "cell_type": "code",
   "execution_count": 20,
   "metadata": {},
   "outputs": [
    {
     "name": "stdout",
     "output_type": "stream",
     "text": [
      "Epoch-0: \n",
      "Training: Loss = 3.4805, Accuracy = 0.0713, Time = 293.41 seconds\n",
      "Validation: Loss = 3.3382, Accuracy = 0.0948, Time = 72.34 seconds\n",
      "\n",
      "Epoch-1: \n",
      "Training: Loss = 2.3733, Accuracy = 0.2856, Time = 39.22 seconds\n",
      "Validation: Loss = 1.4173, Accuracy = 0.4950, Time = 8.23 seconds\n",
      "\n",
      "Epoch-2: \n",
      "Training: Loss = 1.1157, Accuracy = 0.6142, Time = 41.39 seconds\n",
      "Validation: Loss = 0.6494, Accuracy = 0.7897, Time = 7.26 seconds\n",
      "\n",
      "Epoch-3: \n",
      "Training: Loss = 0.4932, Accuracy = 0.8348, Time = 39.95 seconds\n",
      "Validation: Loss = 0.2307, Accuracy = 0.9313, Time = 7.30 seconds\n",
      "\n",
      "Epoch-4: \n",
      "Training: Loss = 0.2609, Accuracy = 0.9164, Time = 39.28 seconds\n",
      "Validation: Loss = 0.1488, Accuracy = 0.9561, Time = 7.34 seconds\n",
      "\n",
      "Epoch-5: \n",
      "Training: Loss = 0.1725, Accuracy = 0.9451, Time = 42.31 seconds\n",
      "Validation: Loss = 0.0711, Accuracy = 0.9786, Time = 7.33 seconds\n",
      "\n",
      "Epoch-6: \n",
      "Training: Loss = 0.1245, Accuracy = 0.9593, Time = 41.47 seconds\n",
      "Validation: Loss = 0.0591, Accuracy = 0.9838, Time = 7.34 seconds\n",
      "\n",
      "Epoch-7: \n",
      "Training: Loss = 0.0884, Accuracy = 0.9719, Time = 39.52 seconds\n",
      "Validation: Loss = 0.0465, Accuracy = 0.9886, Time = 7.34 seconds\n",
      "\n",
      "Epoch-8: \n",
      "Training: Loss = 0.0783, Accuracy = 0.9760, Time = 39.30 seconds\n",
      "Validation: Loss = 0.0420, Accuracy = 0.9898, Time = 7.45 seconds\n",
      "\n",
      "Epoch-9: \n",
      "Training: Loss = 0.0646, Accuracy = 0.9789, Time = 39.55 seconds\n",
      "Validation: Loss = 0.0437, Accuracy = 0.9883, Time = 7.39 seconds\n",
      "\n",
      "Epoch-10: \n",
      "Training: Loss = 0.0555, Accuracy = 0.9822, Time = 39.75 seconds\n",
      "Validation: Loss = 0.0373, Accuracy = 0.9910, Time = 7.38 seconds\n",
      "\n",
      "Epoch-11: \n",
      "Training: Loss = 0.0409, Accuracy = 0.9869, Time = 40.08 seconds\n",
      "Validation: Loss = 0.0214, Accuracy = 0.9949, Time = 7.44 seconds\n",
      "\n",
      "Epoch-12: \n",
      "Training: Loss = 0.0396, Accuracy = 0.9869, Time = 39.86 seconds\n",
      "Validation: Loss = 0.0218, Accuracy = 0.9953, Time = 7.38 seconds\n",
      "\n",
      "Epoch-13: \n",
      "Training: Loss = 0.0395, Accuracy = 0.9880, Time = 39.52 seconds\n",
      "Validation: Loss = 0.0261, Accuracy = 0.9941, Time = 7.42 seconds\n",
      "\n",
      "Epoch-14: \n",
      "Training: Loss = 0.0299, Accuracy = 0.9906, Time = 41.56 seconds\n",
      "Validation: Loss = 0.0187, Accuracy = 0.9963, Time = 8.28 seconds\n",
      "\n"
     ]
    }
   ],
   "source": [
    "# Perform training\n",
    "\n",
    "# List to save training and val loss and accuracies\n",
    "train_loss_list = [0]*EPOCHS\n",
    "train_acc_list = [0]*EPOCHS\n",
    "val_loss_list = [0]*EPOCHS\n",
    "val_acc_list = [0]*EPOCHS\n",
    "\n",
    "for epoch in range(EPOCHS):\n",
    "    print(\"Epoch-%d: \" % (epoch))\n",
    "\n",
    "    train_start_time = time.monotonic()\n",
    "    train_loss, train_acc = train(model, train_loader, optimizer, criterion)\n",
    "    train_end_time = time.monotonic()\n",
    "\n",
    "    val_start_time = time.monotonic()\n",
    "    val_loss, val_acc = evaluate(model, val_loader, optimizer, criterion)\n",
    "    val_end_time = time.monotonic()\n",
    "    \n",
    "    train_loss_list[epoch] = train_loss\n",
    "    train_acc_list[epoch] = train_acc\n",
    "    val_loss_list[epoch] = val_loss\n",
    "    val_acc_list[epoch] = val_acc\n",
    "    \n",
    "    print(\"Training: Loss = %.4f, Accuracy = %.4f, Time = %.2f seconds\" % (train_loss, train_acc, train_end_time - train_start_time))\n",
    "    print(\"Validation: Loss = %.4f, Accuracy = %.4f, Time = %.2f seconds\" % (val_loss, val_acc, val_end_time - val_start_time))\n",
    "    print(\"\")"
   ]
  },
  {
   "cell_type": "code",
   "execution_count": 21,
   "metadata": {},
   "outputs": [
    {
     "name": "stdout",
     "output_type": "stream",
     "text": [
      "Model saved at ../Model/pytorch_classification_alexnet.pth\n"
     ]
    }
   ],
   "source": [
    "# Saving the model\n",
    "\n",
    "# Create folder to save model\n",
    "MODEL_FOLDER = \"../Model\"\n",
    "if not os.path.isdir(MODEL_FOLDER):\n",
    "    os.mkdir(MODEL_FOLDER)\n",
    "    \n",
    "PATH_TO_MODEL = MODEL_FOLDER + \"/pytorch_classification_alexnet.pth\"\n",
    "if os.path.exists(PATH_TO_MODEL):\n",
    "    os.remove(PATH_TO_MODEL)\n",
    "torch.save(model.state_dict(), PATH_TO_MODEL)\n",
    "\n",
    "print(\"Model saved at %s\" %(PATH_TO_MODEL))"
   ]
  },
  {
   "cell_type": "code",
   "execution_count": 22,
   "metadata": {},
   "outputs": [
    {
     "data": {
      "image/png": "[encoded data removed]",
      "text/plain": [
       "<Figure size 1080x360 with 2 Axes>"
      ]
     },
     "metadata": {
      "needs_background": "light"
     },
     "output_type": "display_data"
    }
   ],
   "source": [
    "# Plot loss and accuracies for training and validation data\n",
    "\n",
    "_, axs = plt.subplots(1, 2, figsize=(15, 5))\n",
    "\n",
    "# Loss plot\n",
    "axs[0].plot(train_loss_list, label=\"train\")\n",
    "axs[0].plot(val_loss_list, label=\"val\")\n",
    "axs[0].set_title(\"Plot - Loss\")\n",
    "axs[0].set_xlabel(\"Epochs\")\n",
    "axs[0].set_ylabel(\"Loss\")\n",
    "legend = axs[0].legend(loc='upper right', shadow=False)\n",
    "\n",
    "# Accuracy plot\n",
    "axs[1].plot(train_acc_list, label=\"train\")\n",
    "axs[1].plot(val_acc_list, label=\"val\")\n",
    "axs[1].set_title(\"Plot - Accuracy\")\n",
    "axs[1].set_xlabel(\"Epochs\")\n",
    "axs[1].set_ylabel(\"Accuracy\")\n",
    "legend = axs[1].legend(loc='center right', shadow=True)"
   ]
  }
 ],
 "metadata": {
  "kernelspec": {
   "display_name": "Python 3",
   "language": "python",
   "name": "python3"
  },
  "language_info": {
   "codemirror_mode": {
    "name": "ipython",
    "version": 3
   },
   "file_extension": ".py",
   "mimetype": "text/x-python",
   "name": "python",
   "nbconvert_exporter": "python",
   "pygments_lexer": "ipython3",
   "version": "3.6.10"
  }
 },
 "nbformat": 4,
 "nbformat_minor": 4
}
