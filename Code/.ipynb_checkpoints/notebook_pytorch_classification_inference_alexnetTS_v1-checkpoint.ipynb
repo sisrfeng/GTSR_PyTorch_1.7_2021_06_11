{
 "cells": [
  {
   "cell_type": "code",
   "execution_count": 1,
   "metadata": {},
   "outputs": [
    {
     "data": {
      "text/plain": [
       "'\\nThis notebook is to demonstrate multi-class classification using PyTorch\\n\\nThe dataset used for the task is GTSRB - German Traffic Sign Recognition Database. This datset consists of 39209 training examples and 12631 test images, belonging to 43 classes\\n\\nThis notebook is used to perform inference using the saved model. Training and generating the model is done in a separate notebook\\n'"
      ]
     },
     "execution_count": 1,
     "metadata": {},
     "output_type": "execute_result"
    }
   ],
   "source": [
    "\"\"\"\n",
    "This notebook is to demonstrate multi-class classification using PyTorch\n",
    "\n",
    "The dataset used for the task is GTSRB - German Traffic Sign Recognition Database. This datset consists of 39209 training examples and 12631 test images, belonging to 43 classes\n",
    "\n",
    "This notebook is used to perform inference using the saved model. Training and generating the model is done in a separate notebook\n",
    "\"\"\" "
   ]
  },
  {
   "cell_type": "code",
   "execution_count": 2,
   "metadata": {},
   "outputs": [],
   "source": [
    "# Few imports\n",
    "\n",
    "import torch\n",
    "import torchvision\n",
    "from torchvision import transforms\n",
    "import torch.utils.data as data\n",
    "import time\n",
    "import numpy as np\n",
    "import os\n",
    "import pandas as pd\n",
    "import matplotlib.pyplot as plt\n",
    "\n",
    "from sklearn.metrics import confusion_matrix\n",
    "from sklearn.metrics import classification_report\n",
    "from sklearn.metrics import ConfusionMatrixDisplay"
   ]
  },
  {
   "cell_type": "code",
   "execution_count": 3,
   "metadata": {},
   "outputs": [],
   "source": [
    "# Define transformations\n",
    "\n",
    "test_transforms = transforms.Compose([\n",
    "    transforms.Resize([112, 112]),\n",
    "    transforms.ToTensor()\n",
    "    ])"
   ]
  },
  {
   "cell_type": "code",
   "execution_count": 4,
   "metadata": {},
   "outputs": [],
   "source": [
    "# Define path of test data\n",
    "\n",
    "test_data_path = \"../GTSRB/Test\"\n",
    "test_data = torchvision.datasets.ImageFolder(root = test_data_path, transform = test_transforms)\n",
    "test_loader = data.DataLoader(test_data, batch_size=1, shuffle=False)"
   ]
  },
  {
   "cell_type": "code",
   "execution_count": 5,
   "metadata": {},
   "outputs": [],
   "source": [
    "# Define hyperparameters\n",
    "\n",
    "numClasses = 43"
   ]
  },
  {
   "cell_type": "code",
   "execution_count": 6,
   "metadata": {},
   "outputs": [
    {
     "name": "stdout",
     "output_type": "stream",
     "text": [
      "List of labels : \n",
      "Actual labels \t--> Class in PyTorch\n",
      "\t0 \t--> \t0\n",
      "\t1 \t--> \t1\n",
      "\t10 \t--> \t2\n",
      "\t11 \t--> \t3\n",
      "\t12 \t--> \t4\n",
      "\t13 \t--> \t5\n",
      "\t14 \t--> \t6\n",
      "\t15 \t--> \t7\n",
      "\t16 \t--> \t8\n",
      "\t17 \t--> \t9\n",
      "\t18 \t--> \t10\n",
      "\t19 \t--> \t11\n",
      "\t2 \t--> \t12\n",
      "\t20 \t--> \t13\n",
      "\t21 \t--> \t14\n",
      "\t22 \t--> \t15\n",
      "\t23 \t--> \t16\n",
      "\t24 \t--> \t17\n",
      "\t25 \t--> \t18\n",
      "\t26 \t--> \t19\n",
      "\t27 \t--> \t20\n",
      "\t28 \t--> \t21\n",
      "\t29 \t--> \t22\n",
      "\t3 \t--> \t23\n",
      "\t30 \t--> \t24\n",
      "\t31 \t--> \t25\n",
      "\t32 \t--> \t26\n",
      "\t33 \t--> \t27\n",
      "\t34 \t--> \t28\n",
      "\t35 \t--> \t29\n",
      "\t36 \t--> \t30\n",
      "\t37 \t--> \t31\n",
      "\t38 \t--> \t32\n",
      "\t39 \t--> \t33\n",
      "\t4 \t--> \t34\n",
      "\t40 \t--> \t35\n",
      "\t41 \t--> \t36\n",
      "\t42 \t--> \t37\n",
      "\t5 \t--> \t38\n",
      "\t6 \t--> \t39\n",
      "\t7 \t--> \t40\n",
      "\t8 \t--> \t41\n",
      "\t9 \t--> \t42\n"
     ]
    }
   ],
   "source": [
    "# Generating labels of classes\n",
    "\n",
    "num = range(numClasses)\n",
    "labels = []\n",
    "for i in num:\n",
    "    labels.append(str(i))\n",
    "labels = sorted(labels)\n",
    "for i in num:\n",
    "    labels[i] = int(labels[i])\n",
    "print(\"List of labels : \")\n",
    "print(\"Actual labels \\t--> Class in PyTorch\")\n",
    "for i in num:\n",
    "    print(\"\\t%d \\t--> \\t%d\" % (labels[i], i))"
   ]
  },
  {
   "cell_type": "code",
   "execution_count": 7,
   "metadata": {},
   "outputs": [],
   "source": [
    "# Read the image labels from the csv file\n",
    "# Note: The labels provided are all numbers, whereas the labels assigned by PyTorch dataloader are strings\n",
    "\n",
    "df = pd.read_csv(\"../GTSRB/Test.csv\")\n",
    "numExamples = len(df)\n",
    "labels_list = list(df.ClassId)"
   ]
  },
  {
   "cell_type": "code",
   "execution_count": 8,
   "metadata": {},
   "outputs": [],
   "source": [
    "# Load the saved model\n",
    "\n",
    "from class_alexnet import Alexnet\n",
    "MODEL_PATH = \"../Model/pytorch_classification_alexnet.pth\"\n",
    "model = Alexnet(numClasses)\n",
    "model.load_state_dict(torch.load(MODEL_PATH))\n",
    "model = model.cuda()"
   ]
  },
  {
   "cell_type": "code",
   "execution_count": null,
   "metadata": {},
   "outputs": [],
   "source": [
    "# Perform classification\n",
    "\n",
    "y_pred_list = []\n",
    "corr_classified = 0\n",
    "\n",
    "with torch.no_grad():\n",
    "    model.eval()\n",
    "\n",
    "    i = 0\n",
    "\n",
    "    for image, _ in test_loader:\n",
    "        image = image.cuda()\n",
    "\n",
    "        y_test_pred = model(image)\n",
    "\n",
    "        y_pred_softmax = torch.log_softmax(y_test_pred[0], dim=1)\n",
    "        _, y_pred_tags = torch.max(y_pred_softmax, dim=1)\n",
    "        y_pred_tags = y_pred_tags.cpu().numpy()\n",
    "        \n",
    "        y_pred = y_pred_tags[0]\n",
    "        y_pred = labels[y_pred]\n",
    "        \n",
    "        y_pred_list.append(y_pred)\n",
    "\n",
    "        if labels_list[i] == y_pred:\n",
    "            corr_classified += 1\n",
    "\n",
    "        i += 1\n",
    "\n",
    "print(\"Number of correctly classified images = %d\" % corr_classified)\n",
    "print(\"Number of incorrectly classified images = %d\" % (numExamples - corr_classified))\n",
    "print(\"Final accuracy = %f\" % (corr_classified / numExamples))"
   ]
  },
  {
   "cell_type": "code",
   "execution_count": null,
   "metadata": {},
   "outputs": [],
   "source": [
    "# Print classification report\n",
    "\n",
    "print(classification_report(labels_list, y_pred_list))"
   ]
  },
  {
   "cell_type": "code",
   "execution_count": null,
   "metadata": {},
   "outputs": [],
   "source": [
    "# Print confusion matrix\n",
    "\n",
    "def plot_confusion_matrix(labels, pred_labels, classes):\n",
    "    \n",
    "    fig = plt.figure(figsize = (20, 20));\n",
    "    ax = fig.add_subplot(1, 1, 1);\n",
    "    cm = confusion_matrix(labels, pred_labels);\n",
    "    cm = ConfusionMatrixDisplay(cm, display_labels = classes);\n",
    "    cm.plot(values_format = 'd', cmap = 'Blues', ax = ax)\n",
    "    plt.xticks(rotation = 20)\n",
    "    \n",
    "labels_arr = range(0, numClasses)\n",
    "plot_confusion_matrix(labels_list, y_pred_list, labels_arr)"
   ]
  },
  {
   "cell_type": "code",
   "execution_count": null,
   "metadata": {},
   "outputs": [],
   "source": [
    "print(y_pred_list[:20])"
   ]
  },
  {
   "cell_type": "code",
   "execution_count": null,
   "metadata": {},
   "outputs": [],
   "source": [
    "print(labels_list[:20])"
   ]
  },
  {
   "cell_type": "code",
   "execution_count": null,
   "metadata": {},
   "outputs": [],
   "source": [
    "# Display first 20 images, along with the actual and predicted classes\n",
    "\n"
   ]
  }
 ],
 "metadata": {
  "kernelspec": {
   "display_name": "Python 3",
   "language": "python",
   "name": "python3"
  },
  "language_info": {
   "codemirror_mode": {
    "name": "ipython",
    "version": 3
   },
   "file_extension": ".py",
   "mimetype": "text/x-python",
   "name": "python",
   "nbconvert_exporter": "python",
   "pygments_lexer": "ipython3",
   "version": "3.6.10"
  }
 },
 "nbformat": 4,
 "nbformat_minor": 4
}
